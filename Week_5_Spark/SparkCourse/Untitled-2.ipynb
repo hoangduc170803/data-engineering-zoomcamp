{
 "cells": [
  {
   "cell_type": "code",
   "execution_count": null,
   "metadata": {},
   "outputs": [],
   "source": [
    "import sys\n",
    "\n",
    "def maximum_meetings(meetings):\n",
    "    meetings.sort(key=lambda x: (x[1], x[2]))\n",
    "\n",
    "    last_finish_time = -1\n",
    "    selected_meetings = []\n",
    "\n",
    "    for start, finish, index in meetings:\n",
    "        if start > last_finish_time:\n",
    "            selected_meetings.append(index)\n",
    "            last_finish_time = finish\n",
    "\n",
    "    return len(selected_meetings), selected_meetings\n",
    "\n",
    "if __name__ == \"__main__\":\n",
    "    # Dùng generator để đọc từng dòng mà không lưu toàn bộ dữ liệu vào bộ nhớ\n",
    "    input_data = sys.stdin.read().strip().splitlines()\n",
    "    \n",
    "    N = int(input_data[0])\n",
    "    \n",
    "    # Generator expression để tạo meetings ngay khi cần\n",
    "    meetings = ((int(data.split(',')[0]), int(data.split(',')[1]), int(data.split(',')[2])) for data in input_data[1:N + 1])\n",
    "\n",
    "    max_count, selected_indices = maximum_meetings(list(meetings))  # Convert generator thành list khi sắp xếp\n",
    "\n",
    "    print(max_count)\n",
    "    print(\", \".join(map(str, selected_indices)))"
   ]
  }
 ],
 "metadata": {
  "kernelspec": {
   "display_name": "Python 3",
   "language": "python",
   "name": "python3"
  },
  "language_info": {
   "codemirror_mode": {
    "name": "ipython",
    "version": 3
   },
   "file_extension": ".py",
   "mimetype": "text/x-python",
   "name": "python",
   "nbconvert_exporter": "python",
   "pygments_lexer": "ipython3",
   "version": "3.10.11"
  }
 },
 "nbformat": 4,
 "nbformat_minor": 2
}
