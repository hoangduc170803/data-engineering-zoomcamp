{
 "cells": [
  {
   "cell_type": "code",
   "execution_count": 4,
   "metadata": {},
   "outputs": [],
   "source": [
    "import pyspark\n",
    "from pyspark.sql import SparkSession\n",
    "\n",
    "spark = SparkSession.builder.master(\"local[*]\").appName(\"test\").getOrCreate()"
   ]
  },
  {
   "cell_type": "code",
   "execution_count": 5,
   "metadata": {},
   "outputs": [],
   "source": [
    "df_green = spark.read.parquet('data/pq/green/*/*')"
   ]
  },
  {
   "cell_type": "code",
   "execution_count": 6,
   "metadata": {},
   "outputs": [],
   "source": [
    "df_green.createOrReplaceTempView('green')"
   ]
  },
  {
   "cell_type": "code",
   "execution_count": 7,
   "metadata": {},
   "outputs": [],
   "source": [
    "df_green_revenue = spark.sql(\"\"\"\n",
    "SELECT \n",
    "    date_trunc('hour', lpep_pickup_datetime) AS hour, \n",
    "    PULocationID AS zone,\n",
    "\n",
    "    SUM(total_amount) AS amount,\n",
    "    COUNT(1) AS number_records\n",
    "FROM\n",
    "    green\n",
    "WHERE\n",
    "    lpep_pickup_datetime >= '2020-01-01 00:00:00'\n",
    "GROUP BY\n",
    "    1, 2\n",
    "ORDER BY \n",
    "    1,2    \n",
    "\"\"\")"
   ]
  },
  {
   "cell_type": "code",
   "execution_count": 8,
   "metadata": {},
   "outputs": [
    {
     "name": "stdout",
     "output_type": "stream",
     "text": [
      "+-------------------+----+------------------+--------------+\n",
      "|               hour|zone|            amount|number_records|\n",
      "+-------------------+----+------------------+--------------+\n",
      "|2020-01-01 00:00:00|   7|            769.73|            45|\n",
      "|2020-01-01 00:00:00|  17|195.03000000000003|             9|\n",
      "|2020-01-01 00:00:00|  18|               7.8|             1|\n",
      "|2020-01-01 00:00:00|  22|              15.8|             1|\n",
      "|2020-01-01 00:00:00|  24|              87.6|             3|\n",
      "|2020-01-01 00:00:00|  25| 531.0000000000001|            26|\n",
      "|2020-01-01 00:00:00|  29|              61.3|             1|\n",
      "|2020-01-01 00:00:00|  32| 68.94999999999999|             2|\n",
      "|2020-01-01 00:00:00|  33|            317.27|            11|\n",
      "|2020-01-01 00:00:00|  35|            129.96|             5|\n",
      "|2020-01-01 00:00:00|  36|295.34000000000003|            11|\n",
      "|2020-01-01 00:00:00|  37|            175.67|             6|\n",
      "|2020-01-01 00:00:00|  38| 98.78999999999999|             2|\n",
      "|2020-01-01 00:00:00|  40|168.98000000000002|             8|\n",
      "|2020-01-01 00:00:00|  41|1363.9599999999991|            84|\n",
      "|2020-01-01 00:00:00|  42| 799.7599999999998|            52|\n",
      "|2020-01-01 00:00:00|  43|            107.52|             6|\n",
      "|2020-01-01 00:00:00|  47|              13.3|             1|\n",
      "|2020-01-01 00:00:00|  49|            266.76|            14|\n",
      "|2020-01-01 00:00:00|  51|              17.8|             2|\n",
      "+-------------------+----+------------------+--------------+\n",
      "only showing top 20 rows\n",
      "\n"
     ]
    }
   ],
   "source": [
    "df_green_revenue.show()"
   ]
  },
  {
   "cell_type": "code",
   "execution_count": 9,
   "metadata": {},
   "outputs": [],
   "source": [
    "df_green_revenue \\\n",
    "    .repartition(20) \\\n",
    "    .write.parquet('data/report/revenue/green', mode='overwrite')"
   ]
  },
  {
   "cell_type": "code",
   "execution_count": 10,
   "metadata": {},
   "outputs": [],
   "source": [
    "df_yellow = spark.read.parquet('data/pq/yellow/*/*')\n",
    "df_yellow.createOrReplaceTempView('yellow')"
   ]
  },
  {
   "cell_type": "code",
   "execution_count": 11,
   "metadata": {},
   "outputs": [
    {
     "name": "stdout",
     "output_type": "stream",
     "text": [
      "+-------------------+----+------------------+--------------+\n",
      "|               hour|zone|            amount|number_records|\n",
      "+-------------------+----+------------------+--------------+\n",
      "|2020-01-12 07:00:00|   1| 42689.67999999991|          2676|\n",
      "|2020-01-21 16:00:00|   1| 192422.6000000026|         11120|\n",
      "|2020-01-26 17:00:00|   2|26699.479999999996|           394|\n",
      "|2020-01-27 10:00:00|   2|11979.320000000003|           176|\n",
      "|2020-01-18 15:00:00|   2|          21742.79|           323|\n",
      "|2020-01-07 19:00:00|   2|18587.660000000007|           257|\n",
      "|2020-01-16 09:00:00|   2| 8346.580000000002|           130|\n",
      "|2020-01-15 09:00:00|   5|           3167.12|            62|\n",
      "|2020-01-14 23:00:00|   2| 7685.450000000002|           114|\n",
      "|2020-01-20 15:00:00|   2|          33292.37|           486|\n",
      "|2020-01-01 07:00:00|   3|           2857.46|            33|\n",
      "|2020-01-15 07:00:00|   4| 596.2399999999999|             6|\n",
      "|2020-01-27 11:00:00|   5|           4424.62|            52|\n",
      "|2020-01-16 05:00:00|   5|           1854.59|            27|\n",
      "|2020-01-13 17:00:00|  99|             63.92|             1|\n",
      "|2020-01-21 19:00:00|NULL|           1558.96|            41|\n",
      "|2020-01-01 06:00:00|NULL| 665.6600000000001|            13|\n",
      "|2020-01-06 06:00:00|   2|          12598.89|           186|\n",
      "|2020-01-17 21:00:00|NULL|           1275.96|            32|\n",
      "|2020-01-03 23:00:00|NULL|           2058.27|            50|\n",
      "+-------------------+----+------------------+--------------+\n",
      "only showing top 20 rows\n",
      "\n"
     ]
    }
   ],
   "source": [
    "df_yellow_revenue = spark.sql(\"\"\" \n",
    "SELECT \n",
    "    date_trunc('hour', lpep_pickup_datetime) AS hour, \n",
    "    PULocationID AS zone,\n",
    "    SUM(total_amount) AS amount,\n",
    "    COUNT(1) AS number_records\n",
    "FROM\n",
    "    yellow\n",
    "WHERE\n",
    "    lpep_pickup_datetime >= '2020-01-01 00:00:00'\n",
    "GROUP BY\n",
    "    1, 2\n",
    "\"\"\")\n",
    "df_yellow_revenue.show()\n"
   ]
  },
  {
   "cell_type": "code",
   "execution_count": 14,
   "metadata": {},
   "outputs": [],
   "source": [
    "df_yellow_revenue \\\n",
    "    .repartition(20) \\\n",
    "    .write.parquet('data/report/revenue/yellow', mode='overwrite')"
   ]
  },
  {
   "cell_type": "code",
   "execution_count": 15,
   "metadata": {},
   "outputs": [],
   "source": [
    "df_green_revenue = spark.read.parquet('data/report/revenue/green')\n",
    "df_yellow_revenue = spark.read.parquet('data/report/revenue/yellow')"
   ]
  },
  {
   "cell_type": "code",
   "execution_count": null,
   "metadata": {},
   "outputs": [],
   "source": [
    "df_green_revenue_tmp = df_green_revenue \\\n",
    "    .withColumnRenamed('amount', 'green_amount') \\\n",
    "    .withColumnRenamed('number_records', 'green_number_records')\n",
    "\n",
    "df_yellow_revenue_tmp = df_yellow_revenue \\\n",
    "    .withColumnRenamed('amount', 'yellow_amount') \\\n",
    "    .withColumnRenamed('number_records', 'yellow_number_records')"
   ]
  },
  {
   "cell_type": "code",
   "execution_count": 18,
   "metadata": {},
   "outputs": [
    {
     "name": "stdout",
     "output_type": "stream",
     "text": [
      "+-------------------+----+------------------+--------------+-------+--------------+\n",
      "|               hour|zone|            amount|number_records| amount|number_records|\n",
      "+-------------------+----+------------------+--------------+-------+--------------+\n",
      "|2020-01-01 03:00:00|NULL|              NULL|          NULL|1082.22|            23|\n",
      "|2020-01-01 00:00:00|  18|               7.8|             1|   NULL|          NULL|\n",
      "|2020-01-01 00:00:00|  83| 94.09999999999998|             7|   NULL|          NULL|\n",
      "|2020-01-01 00:00:00| 134|             69.05|             6|   NULL|          NULL|\n",
      "|2020-01-01 01:00:00|  35|            239.37|             8|   NULL|          NULL|\n",
      "|2020-01-01 01:00:00|  47|            130.46|             3|   NULL|          NULL|\n",
      "|2020-01-01 01:00:00|  60|            156.04|             7|   NULL|          NULL|\n",
      "|2020-01-01 01:00:00|  77|             64.66|             2|   NULL|          NULL|\n",
      "|2020-01-01 01:00:00|  78|             74.33|             3|   NULL|          NULL|\n",
      "|2020-01-01 01:00:00| 108|            145.18|             4|   NULL|          NULL|\n",
      "|2020-01-01 01:00:00| 197|             54.28|             3|   NULL|          NULL|\n",
      "|2020-01-01 01:00:00| 212|             77.94|             4|   NULL|          NULL|\n",
      "|2020-01-01 01:00:00| 255| 565.2900000000001|            27|   NULL|          NULL|\n",
      "|2020-01-01 02:00:00|   9|             93.32|             2|   NULL|          NULL|\n",
      "|2020-01-01 02:00:00|  25|369.84000000000003|            21|   NULL|          NULL|\n",
      "|2020-01-01 02:00:00|  51| 63.31999999999999|             2|   NULL|          NULL|\n",
      "|2020-01-01 02:00:00|  52|             51.42|             2|   NULL|          NULL|\n",
      "|2020-01-01 02:00:00|  95|220.52000000000004|            17|   NULL|          NULL|\n",
      "|2020-01-01 02:00:00| 119|             20.08|             1|   NULL|          NULL|\n",
      "|2020-01-01 02:00:00| 144|              30.5|             2|   NULL|          NULL|\n",
      "|2020-01-01 02:00:00| 147| 72.46000000000001|             3|   NULL|          NULL|\n",
      "|2020-01-01 02:00:00| 173|             129.7|             6|   NULL|          NULL|\n",
      "|2020-01-01 03:00:00|  52|             18.05|             1|   NULL|          NULL|\n",
      "|2020-01-01 03:00:00| 145|              69.1|             4|   NULL|          NULL|\n",
      "|2020-01-01 03:00:00| 168|             67.82|             4|   NULL|          NULL|\n",
      "|2020-01-01 03:00:00| 189|              44.8|             2|   NULL|          NULL|\n",
      "|2020-01-01 03:00:00| 191|107.74000000000001|             2|   NULL|          NULL|\n",
      "|2020-01-01 04:00:00|  20|              16.6|             2|   NULL|          NULL|\n",
      "|2020-01-01 04:00:00|  33|               6.3|             1|   NULL|          NULL|\n",
      "|2020-01-01 04:00:00| 126|            211.44|             4|   NULL|          NULL|\n",
      "+-------------------+----+------------------+--------------+-------+--------------+\n",
      "only showing top 30 rows\n",
      "\n"
     ]
    }
   ],
   "source": [
    "df_join.show(30)"
   ]
  }
 ],
 "metadata": {
  "kernelspec": {
   "display_name": "Python 3",
   "language": "python",
   "name": "python3"
  },
  "language_info": {
   "codemirror_mode": {
    "name": "ipython",
    "version": 3
   },
   "file_extension": ".py",
   "mimetype": "text/x-python",
   "name": "python",
   "nbconvert_exporter": "python",
   "pygments_lexer": "ipython3",
   "version": "3.9.13"
  }
 },
 "nbformat": 4,
 "nbformat_minor": 2
}
