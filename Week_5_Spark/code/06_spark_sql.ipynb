{
 "cells": [
  {
   "cell_type": "code",
   "execution_count": 5,
   "metadata": {},
   "outputs": [],
   "source": [
    "import pyspark\n",
    "from pyspark.sql import SparkSession\n",
    "\n",
    "spark = SparkSession.builder.master(\"local[*]\").appName(\"test\").getOrCreate()"
   ]
  },
  {
   "cell_type": "code",
   "execution_count": 6,
   "metadata": {},
   "outputs": [],
   "source": [
    "df_green = spark.read.parquet(\"data/pq/green/*/*\")"
   ]
  },
  {
   "cell_type": "code",
   "execution_count": 7,
   "metadata": {},
   "outputs": [
    {
     "name": "stdout",
     "output_type": "stream",
     "text": [
      "+--------+--------------------+---------------------+------------------+----------+------------+------------+---------------+-------------+-----------+-----+-------+----------+------------+---------+---------------------+------------+------------+---------+--------------------+\n",
      "|VendorID|lpep_pickup_datetime|lpep_dropoff_datetime|store_and_fwd_flag|RatecodeID|PULocationID|DOLocationID|passenger_count|trip_distance|fare_amount|extra|mta_tax|tip_amount|tolls_amount|ehail_fee|improvement_surcharge|total_amount|payment_type|trip_type|congestion_surcharge|\n",
      "+--------+--------------------+---------------------+------------------+----------+------------+------------+---------------+-------------+-----------+-----+-------+----------+------------+---------+---------------------+------------+------------+---------+--------------------+\n",
      "|       1| 2020-01-03 19:00:01|  2020-01-03 19:05:48|                 N|         1|         244|         116|              1|          1.0|        6.0|  1.0|    0.5|       1.0|         0.0|     NULL|                  0.3|         8.8|           1|        1|                 0.0|\n",
      "|       2| 2020-01-29 19:55:01|  2020-01-29 19:59:12|                 N|         1|         166|          24|              1|         0.82|        5.0|  1.0|    0.5|      1.36|         0.0|     NULL|                  0.3|        8.16|           1|        1|                 0.0|\n",
      "|       1| 2020-01-02 10:20:42|  2020-01-02 10:21:07|                 N|         1|         145|         145|              1|          0.0|        2.5|  0.0|    0.5|       0.0|         0.0|     NULL|                  0.3|         3.3|           2|        1|                 0.0|\n",
      "|    NULL| 2020-01-23 10:24:00|  2020-01-23 10:33:00|              NULL|      NULL|         101|         203|           NULL|         4.88|      28.74| 2.75|    0.0|       0.0|         0.0|     NULL|                  0.3|       31.79|        NULL|     NULL|                NULL|\n",
      "|       2| 2020-01-12 17:30:50|  2020-01-12 17:34:31|                 N|         1|          74|          74|              1|         0.34|        4.5|  0.0|    0.5|       0.0|         0.0|     NULL|                  0.3|         5.3|           2|        1|                 0.0|\n",
      "|       2| 2020-01-27 19:33:09|  2020-01-27 19:40:47|                 N|         1|         134|         135|              5|         1.59|        7.5|  1.0|    0.5|      2.79|         0.0|     NULL|                  0.3|       12.09|           1|        1|                 0.0|\n",
      "|       2| 2020-01-24 21:25:12|  2020-01-24 21:27:41|                 N|         1|          42|          42|              1|         0.74|        4.5|  0.5|    0.5|      1.45|         0.0|     NULL|                  0.3|        7.25|           1|        1|                 0.0|\n",
      "|       2| 2020-01-04 17:06:40|  2020-01-04 17:23:26|                 N|         1|          82|         223|              2|         4.34|       15.5|  0.0|    0.5|      3.26|         0.0|     NULL|                  0.3|       19.56|           1|        1|                 0.0|\n",
      "|    NULL| 2020-01-07 05:46:00|  2020-01-07 06:09:00|              NULL|      NULL|         222|          80|           NULL|         5.74|      26.33| 2.75|    0.5|       0.0|         0.0|     NULL|                  0.3|       29.88|        NULL|     NULL|                NULL|\n",
      "|    NULL| 2020-01-08 17:18:00|  2020-01-08 17:51:00|              NULL|      NULL|         226|         167|           NULL|          6.5|       21.5|  0.0|    0.0|       0.0|        6.12|     NULL|                  0.3|       27.92|        NULL|     NULL|                NULL|\n",
      "|       2| 2020-01-03 15:02:31|  2020-01-03 15:10:40|                 N|         1|          41|          42|              1|         0.98|        6.5|  0.0|    0.5|       0.0|         0.0|     NULL|                  0.3|         7.3|           2|        1|                 0.0|\n",
      "|       2| 2020-01-07 06:44:09|  2020-01-07 07:00:49|                 N|         1|          42|         151|              1|         2.65|       11.5|  0.0|    0.5|       0.0|         0.0|     NULL|                  0.3|        12.3|           2|        1|                 0.0|\n",
      "|    NULL| 2020-01-03 13:30:00|  2020-01-03 13:49:00|              NULL|      NULL|         181|          17|           NULL|         2.68|      13.02|  0.0|    0.0|       0.0|         0.0|     NULL|                  0.3|       13.32|        NULL|     NULL|                NULL|\n",
      "|       1| 2020-01-14 14:23:30|  2020-01-14 14:24:26|                 N|         1|         181|         181|              1|          0.0|        2.5|  0.0|    0.5|       0.0|         0.0|     NULL|                  0.3|         3.3|           4|        1|                 0.0|\n",
      "|    NULL| 2020-01-19 22:11:00|  2020-01-19 23:00:00|              NULL|      NULL|         142|          76|           NULL|        10.55|      44.64| 2.75|    0.0|       0.0|         0.0|     NULL|                  0.3|       47.69|        NULL|     NULL|                NULL|\n",
      "|    NULL| 2020-01-03 09:30:00|  2020-01-03 09:55:00|              NULL|      NULL|         177|          25|           NULL|         5.25|      25.95| 2.75|    0.0|       0.0|         0.0|     NULL|                  0.3|        29.0|        NULL|     NULL|                NULL|\n",
      "|       2| 2020-01-08 10:41:32|  2020-01-08 11:02:04|                 N|         1|          95|         205|              2|         6.35|       21.0|  0.0|    0.5|       0.0|         0.0|     NULL|                  0.3|        21.8|           2|        1|                 0.0|\n",
      "|       2| 2020-01-27 23:39:43|  2020-01-27 23:54:21|                 N|         1|         166|         236|              1|          3.5|       13.5|  0.5|    0.5|       0.0|         0.0|     NULL|                  0.3|       17.55|           2|        1|                2.75|\n",
      "|       2| 2020-01-29 20:00:42|  2020-01-29 20:08:36|                 N|         1|          65|          87|              1|         2.04|        8.5|  0.5|    0.5|      2.51|         0.0|     NULL|                  0.3|       15.06|           1|        1|                2.75|\n",
      "|       1| 2020-01-25 22:35:32|  2020-01-25 22:50:11|                 N|         1|         255|         148|              1|          2.8|       12.5| 3.25|    0.5|       3.3|         0.0|     NULL|                  0.3|       19.85|           1|        1|                2.75|\n",
      "+--------+--------------------+---------------------+------------------+----------+------------+------------+---------------+-------------+-----------+-----+-------+----------+------------+---------+---------------------+------------+------------+---------+--------------------+\n",
      "only showing top 20 rows\n",
      "\n"
     ]
    }
   ],
   "source": [
    "df_green.show()"
   ]
  },
  {
   "cell_type": "code",
   "execution_count": 8,
   "metadata": {},
   "outputs": [
    {
     "name": "stdout",
     "output_type": "stream",
     "text": [
      "root\n",
      " |-- VendorID: integer (nullable = true)\n",
      " |-- lpep_pickup_datetime: timestamp (nullable = true)\n",
      " |-- lpep_dropoff_datetime: timestamp (nullable = true)\n",
      " |-- store_and_fwd_flag: string (nullable = true)\n",
      " |-- RatecodeID: integer (nullable = true)\n",
      " |-- PULocationID: integer (nullable = true)\n",
      " |-- DOLocationID: integer (nullable = true)\n",
      " |-- passenger_count: integer (nullable = true)\n",
      " |-- trip_distance: double (nullable = true)\n",
      " |-- fare_amount: double (nullable = true)\n",
      " |-- extra: double (nullable = true)\n",
      " |-- mta_tax: double (nullable = true)\n",
      " |-- tip_amount: double (nullable = true)\n",
      " |-- tolls_amount: double (nullable = true)\n",
      " |-- ehail_fee: double (nullable = true)\n",
      " |-- improvement_surcharge: double (nullable = true)\n",
      " |-- total_amount: double (nullable = true)\n",
      " |-- payment_type: integer (nullable = true)\n",
      " |-- trip_type: integer (nullable = true)\n",
      " |-- congestion_surcharge: double (nullable = true)\n",
      "\n"
     ]
    }
   ],
   "source": [
    "df_green.printSchema()"
   ]
  },
  {
   "cell_type": "code",
   "execution_count": 46,
   "metadata": {},
   "outputs": [],
   "source": [
    "df_green = df_green.withColumnRenamed('lpep_pickup_datetime', 'pickup_datetime') \\\n",
    "    .withColumnRenamed('lpep_dropoff_datetime', 'dropoff_datetime') "
   ]
  },
  {
   "cell_type": "code",
   "execution_count": 47,
   "metadata": {},
   "outputs": [],
   "source": [
    "df_yellow = spark.read.parquet(\"data/pq/yellow/*/*\")"
   ]
  },
  {
   "cell_type": "code",
   "execution_count": 48,
   "metadata": {},
   "outputs": [
    {
     "name": "stdout",
     "output_type": "stream",
     "text": [
      "root\n",
      " |-- VendorID: integer (nullable = true)\n",
      " |-- lpep_pickup_datetime: timestamp (nullable = true)\n",
      " |-- lpep_dropoff_datetime: timestamp (nullable = true)\n",
      " |-- store_and_fwd_flag: string (nullable = true)\n",
      " |-- RatecodeID: integer (nullable = true)\n",
      " |-- PULocationID: integer (nullable = true)\n",
      " |-- DOLocationID: integer (nullable = true)\n",
      " |-- passenger_count: integer (nullable = true)\n",
      " |-- trip_distance: double (nullable = true)\n",
      " |-- fare_amount: double (nullable = true)\n",
      " |-- extra: double (nullable = true)\n",
      " |-- mta_tax: double (nullable = true)\n",
      " |-- tip_amount: double (nullable = true)\n",
      " |-- tolls_amount: double (nullable = true)\n",
      " |-- ehail_fee: double (nullable = true)\n",
      " |-- improvement_surcharge: double (nullable = true)\n",
      " |-- total_amount: double (nullable = true)\n",
      " |-- payment_type: integer (nullable = true)\n",
      " |-- trip_type: integer (nullable = true)\n",
      " |-- congestion_surcharge: double (nullable = true)\n",
      "\n"
     ]
    }
   ],
   "source": [
    "df_yellow.printSchema()"
   ]
  },
  {
   "cell_type": "code",
   "execution_count": 49,
   "metadata": {},
   "outputs": [],
   "source": [
    "df_yellow = df_yellow.withColumnRenamed('lpep_pickup_datetime', 'pickup_datetime') \\\n",
    "    .withColumnRenamed('lpep_dropoff_datetime', 'dropoff_datetime') "
   ]
  },
  {
   "cell_type": "code",
   "execution_count": 50,
   "metadata": {},
   "outputs": [],
   "source": [
    "common_columns = set(df_green.columns).intersection(set(df_yellow.columns))"
   ]
  },
  {
   "cell_type": "code",
   "execution_count": 51,
   "metadata": {},
   "outputs": [
    {
     "data": {
      "text/plain": [
       "{'DOLocationID',\n",
       " 'PULocationID',\n",
       " 'RatecodeID',\n",
       " 'VendorID',\n",
       " 'congestion_surcharge',\n",
       " 'dropoff_datetime',\n",
       " 'ehail_fee',\n",
       " 'extra',\n",
       " 'fare_amount',\n",
       " 'improvement_surcharge',\n",
       " 'mta_tax',\n",
       " 'passenger_count',\n",
       " 'payment_type',\n",
       " 'pickup_datetime',\n",
       " 'store_and_fwd_flag',\n",
       " 'tip_amount',\n",
       " 'tolls_amount',\n",
       " 'total_amount',\n",
       " 'trip_distance',\n",
       " 'trip_type'}"
      ]
     },
     "execution_count": 51,
     "metadata": {},
     "output_type": "execute_result"
    }
   ],
   "source": [
    "common_columns"
   ]
  },
  {
   "cell_type": "code",
   "execution_count": 52,
   "metadata": {},
   "outputs": [],
   "source": [
    "from pyspark.sql import functions as F"
   ]
  },
  {
   "cell_type": "code",
   "execution_count": 53,
   "metadata": {},
   "outputs": [],
   "source": [
    "df_green_selected = df_green.select(list(common_columns)).withColumn('service_type',F.lit('green'))\n"
   ]
  },
  {
   "cell_type": "code",
   "execution_count": 54,
   "metadata": {},
   "outputs": [],
   "source": [
    "df_yellow_selected = df_yellow.select(list(common_columns)).withColumn('service_type',F.lit('yellow'))"
   ]
  },
  {
   "cell_type": "code",
   "execution_count": 55,
   "metadata": {},
   "outputs": [],
   "source": [
    "df_trips_data = df_green_selected.union(df_yellow_selected)"
   ]
  },
  {
   "cell_type": "code",
   "execution_count": 56,
   "metadata": {},
   "outputs": [
    {
     "name": "stdout",
     "output_type": "stream",
     "text": [
      "+------------+--------+\n",
      "|service_type|   count|\n",
      "+------------+--------+\n",
      "|       green| 2304517|\n",
      "|      yellow|39649199|\n",
      "+------------+--------+\n",
      "\n"
     ]
    }
   ],
   "source": [
    "df_trips_data.groupBy('service_type').count().show()"
   ]
  },
  {
   "cell_type": "code",
   "execution_count": 57,
   "metadata": {},
   "outputs": [],
   "source": [
    "df_trips_data.createOrReplaceTempView('trips_data') \n"
   ]
  },
  {
   "cell_type": "code",
   "execution_count": 58,
   "metadata": {},
   "outputs": [
    {
     "name": "stdout",
     "output_type": "stream",
     "text": [
      "+------------+--------+\n",
      "|service_type|count(1)|\n",
      "+------------+--------+\n",
      "|       green| 2304517|\n",
      "|      yellow|39649199|\n",
      "+------------+--------+\n",
      "\n"
     ]
    }
   ],
   "source": [
    "spark.sql(\"SELECT service_type, count(*) FROM trips_data GROUP BY service_type\").show()"
   ]
  },
  {
   "cell_type": "code",
   "execution_count": 59,
   "metadata": {},
   "outputs": [
    {
     "name": "stdout",
     "output_type": "stream",
     "text": [
      "root\n",
      " |-- tip_amount: double (nullable = true)\n",
      " |-- ehail_fee: double (nullable = true)\n",
      " |-- passenger_count: integer (nullable = true)\n",
      " |-- trip_distance: double (nullable = true)\n",
      " |-- VendorID: integer (nullable = true)\n",
      " |-- extra: double (nullable = true)\n",
      " |-- payment_type: integer (nullable = true)\n",
      " |-- dropoff_datetime: timestamp (nullable = true)\n",
      " |-- total_amount: double (nullable = true)\n",
      " |-- fare_amount: double (nullable = true)\n",
      " |-- trip_type: integer (nullable = true)\n",
      " |-- RatecodeID: integer (nullable = true)\n",
      " |-- store_and_fwd_flag: string (nullable = true)\n",
      " |-- PULocationID: integer (nullable = true)\n",
      " |-- mta_tax: double (nullable = true)\n",
      " |-- DOLocationID: integer (nullable = true)\n",
      " |-- pickup_datetime: timestamp (nullable = true)\n",
      " |-- tolls_amount: double (nullable = true)\n",
      " |-- improvement_surcharge: double (nullable = true)\n",
      " |-- congestion_surcharge: double (nullable = true)\n",
      " |-- service_type: string (nullable = false)\n",
      "\n"
     ]
    }
   ],
   "source": [
    "df_trips_data.printSchema()\n"
   ]
  },
  {
   "cell_type": "code",
   "execution_count": 60,
   "metadata": {},
   "outputs": [],
   "source": [
    "df_result = spark.sql(\"\"\"\n",
    "SELECT \n",
    "    -- Reveneue grouping \n",
    "    PULocationID AS revenue_zone,\n",
    "    date_trunc('month', pickup_datetime) AS revenue_month, \n",
    "    service_type, \n",
    "\n",
    "    -- Revenue calculation \n",
    "    SUM(fare_amount) AS revenue_monthly_fare,\n",
    "    SUM(extra) AS revenue_monthly_extra,\n",
    "    SUM(mta_tax) AS revenue_monthly_mta_tax,\n",
    "    SUM(tip_amount) AS revenue_monthly_tip_amount,\n",
    "    SUM(tolls_amount) AS revenue_monthly_tolls_amount,\n",
    "    SUM(improvement_surcharge) AS revenue_monthly_improvement_surcharge,\n",
    "    SUM(total_amount) AS revenue_monthly_total_amount,\n",
    "    SUM(congestion_surcharge) AS revenue_monthly_congestion_surcharge,\n",
    "\n",
    "    -- Additional calculations\n",
    "    AVG(passenger_count) AS avg_montly_passenger_count,\n",
    "    AVG(trip_distance) AS avg_montly_trip_distance\n",
    "FROM\n",
    "    trips_data\n",
    "GROUP BY\n",
    "    1, 2, 3\n",
    "\"\"\")"
   ]
  },
  {
   "cell_type": "code",
   "execution_count": 61,
   "metadata": {},
   "outputs": [
    {
     "name": "stdout",
     "output_type": "stream",
     "text": [
      "+------------+-------------------+------------+--------------------+---------------------+-----------------------+--------------------------+----------------------------+-------------------------------------+----------------------------+------------------------------------+--------------------------+------------------------+\n",
      "|revenue_zone|      revenue_month|service_type|revenue_monthly_fare|revenue_monthly_extra|revenue_monthly_mta_tax|revenue_monthly_tip_amount|revenue_monthly_tolls_amount|revenue_monthly_improvement_surcharge|revenue_monthly_total_amount|revenue_monthly_congestion_surcharge|avg_montly_passenger_count|avg_montly_trip_distance|\n",
      "+------------+-------------------+------------+--------------------+---------------------+-----------------------+--------------------------+----------------------------+-------------------------------------+----------------------------+------------------------------------+--------------------------+------------------------+\n",
      "|         221|2020-01-01 00:00:00|       green|               382.5|                  1.0|                    3.0|                       0.0|           85.67999999999999|                                  2.1|                      474.28|                                 0.0|        1.2857142857142858|      12.874285714285715|\n",
      "|          35|2020-01-01 00:00:00|       green|  51364.229999999996|              3498.25|                  422.0|                     33.81|          1007.9800000000004|                     538.500000000009|           56871.41999999995|                                 5.5|        1.1042183622828785|       5.437524084778421|\n",
      "|          29|2020-01-01 00:00:00|       green|  25023.050000000003|               1154.5|                  230.0|        116.18999999999997|           802.9200000000004|                   225.00000000000045|          27554.409999999934|                                2.75|        1.1295681063122924|       7.838712753277715|\n",
      "|         265|2020-01-01 00:00:00|       green|  12497.059999999996|               251.25|                   84.5|                    712.49|           405.4800000000001|                    88.49999999999977|          14043.179999999993|                                2.75|        1.4027149321266967|       7.998323170731705|\n",
      "|         156|2020-01-01 00:00:00|       green|             3983.88|                 26.0|                   32.5|                       0.0|           569.1600000000002|                    22.80000000000002|                     4634.34|                                 0.0|        1.4090909090909092|      17.990394736842106|\n",
      "|         245|2020-01-01 00:00:00|       green|                80.0|                 2.75|                    0.0|                       0.0|                         0.0|                                  0.3|                       83.05|                                 0.0|                       6.0|                    51.9|\n",
      "|         244|2020-01-01 00:00:00|       green|  186755.70999999956|              6773.25|                 4933.0|         19220.34999999995|          3665.5699999999847|                    3244.200000000009|          232629.02999999558|                              8997.5|          1.33827209930924|       4.355255763688761|\n",
      "|         216|2020-01-01 00:00:00|       green|  29464.290000000048|               1538.0|                  165.5|         88.10999999999999|           630.2400000000004|                   291.30000000000246|           32181.33999999993|                                2.75|                      1.28|       7.006078048780485|\n",
      "|          19|2020-01-01 00:00:00|       green|   7798.879999999998|                377.0|                   42.0|                      6.66|                       174.4|                    67.49999999999994|           8466.440000000004|                                 0.0|                  1.046875|       7.850781893004115|\n",
      "|          18|2020-01-01 00:00:00|       green|  23890.939999999995|               1332.0|                  215.5|        154.95999999999998|          1081.1000000000004|                   248.70000000000135|          26964.249999999876|                                16.5|         1.176991150442478|      6.2981008583691045|\n",
      "|         200|2020-01-01 00:00:00|       green|            16289.02|                951.5|                  101.0|         63.82000000000001|           879.3299999999999|                   142.79999999999936|          18447.420000000002|                                8.25|        1.1477272727272727|        8.05147810218978|\n",
      "|         168|2019-12-01 00:00:00|       green|                20.0|                  0.5|                    0.5|                       0.0|                         0.0|                                  0.3|                        21.3|                                 0.0|                       1.0|                    6.54|\n",
      "|          66|2020-01-01 00:00:00|       green|   99963.98999999999|               4168.0|                 3157.0|        16149.059999999972|                      228.81|                   1941.5999999998842|          131787.16000000315|                              7182.0|        1.4764687302590018|      3.8230822022266353|\n",
      "|          81|2020-01-01 00:00:00|       green|   23316.56000000001|               1242.0|                  167.0|                     13.35|          1406.2200000000005|                   204.59999999999985|          26353.629999999976|                                 0.0|        1.1515151515151516|       8.899386666666667|\n",
      "|         210|2020-01-01 00:00:00|       green|   41402.04000000002|               2409.0|                  774.0|        1185.9300000000005|          1218.2500000000007|                    610.5000000000117|            47612.6699999998|                                16.5|        1.2152091254752853|       4.500402169001357|\n",
      "|         198|2020-01-01 00:00:00|       green|  10186.069999999989|               725.75|                   87.5|                     94.04|          244.80000000000007|                   113.69999999999962|          11485.910000000003|                                38.5|        1.0990990990990992|       4.824075829383886|\n",
      "|          82|2020-02-01 00:00:00|       green|   182594.3699999994|              8411.75|                 7522.0|        11186.169999999995|          1384.4300000000007|                    4754.099999999961|          216460.62000002206|                              651.75|        1.4300339071465833|      2.4177718981510354|\n",
      "|          95|2020-01-01 00:00:00|       green|  165389.11999999953|               8057.5|                 6076.0|        13427.379999999986|          2529.8199999999847|                    4000.500000000312|           200177.0200000034|                               722.5|        1.3752864157119475|       2.789498157700794|\n",
      "|          62|2020-01-01 00:00:00|       green|  26734.569999999963|               2084.0|                  273.5|        213.79000000000002|          237.89000000000004|                    336.3000000000032|            29938.6499999999|                               13.75|        1.2145328719723183|       4.052355242566506|\n",
      "|          23|2020-01-01 00:00:00|       green|              782.58|                16.75|                    2.0|                       0.0|                      178.85|                   2.9999999999999996|                      983.18|                                 0.0|                       2.0|       28.03000000000001|\n",
      "+------------+-------------------+------------+--------------------+---------------------+-----------------------+--------------------------+----------------------------+-------------------------------------+----------------------------+------------------------------------+--------------------------+------------------------+\n",
      "only showing top 20 rows\n",
      "\n"
     ]
    }
   ],
   "source": [
    "df_result.show()"
   ]
  },
  {
   "cell_type": "code",
   "execution_count": 64,
   "metadata": {},
   "outputs": [],
   "source": [
    "df_result.coalesce(1).write.parquet('data/report/revenue/', mode='overwrite')"
   ]
  },
  {
   "cell_type": "code",
   "execution_count": 65,
   "metadata": {},
   "outputs": [
    {
     "data": {
      "text/plain": [
       "4967"
      ]
     },
     "execution_count": 65,
     "metadata": {},
     "output_type": "execute_result"
    }
   ],
   "source": [
    "df_result.count()"
   ]
  }
 ],
 "metadata": {
  "kernelspec": {
   "display_name": "Python 3",
   "language": "python",
   "name": "python3"
  },
  "language_info": {
   "codemirror_mode": {
    "name": "ipython",
    "version": 3
   },
   "file_extension": ".py",
   "mimetype": "text/x-python",
   "name": "python",
   "nbconvert_exporter": "python",
   "pygments_lexer": "ipython3",
   "version": "3.9.13"
  }
 },
 "nbformat": 4,
 "nbformat_minor": 2
}
