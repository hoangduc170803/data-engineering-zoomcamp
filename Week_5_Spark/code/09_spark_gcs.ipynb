{
 "cells": [
  {
   "cell_type": "code",
   "execution_count": 1,
   "metadata": {},
   "outputs": [],
   "source": [
    "import pyspark\n",
    "from pyspark.sql import SparkSession\n",
    "from pyspark.conf import SparkConf\n",
    "from pyspark.context import SparkContext\n",
    "\n"
   ]
  },
  {
   "cell_type": "code",
   "execution_count": 2,
   "metadata": {},
   "outputs": [],
   "source": [
    "credentials_location = \"D:/DataZoomCamp/airflow/google/google-credentials.json\"\n",
    "\n",
    "conf = SparkConf() \\\n",
    "    .setMaster('local[*]') \\\n",
    "    .setAppName('test') \\\n",
    "    .set(\"spark.jars\", \"./lib/gcs-connector-hadoop3-latest.jar\") \\\n",
    "    .set(\"spark.hadoop.google.cloud.auth.service.account.enable\", \"true\") \\\n",
    "    .set(\"spark.hadoop.google.cloud.auth.service.account.json.keyfile\", credentials_location)"
   ]
  },
  {
   "cell_type": "code",
   "execution_count": 3,
   "metadata": {},
   "outputs": [],
   "source": [
    "sc = SparkContext(conf=conf)\n",
    "\n",
    "\n",
    "hadoop_conf = sc._jsc.hadoopConfiguration()\n",
    "\n",
    "hadoop_conf.set(\"fs.AbstractFileSystem.gs.impl\",  \"com.google.cloud.hadoop.fs.gcs.GoogleHadoopFS\")\n",
    "hadoop_conf.set(\"fs.gs.impl\", \"com.google.cloud.hadoop.fs.gcs.GoogleHadoopFileSystem\")\n",
    "hadoop_conf.set(\"fs.gs.auth.service.account.json.keyfile\", credentials_location)\n",
    "hadoop_conf.set(\"fs.gs.auth.service.account.enable\", \"true\")"
   ]
  },
  {
   "cell_type": "code",
   "execution_count": 4,
   "metadata": {},
   "outputs": [],
   "source": [
    "\n",
    "spark = SparkSession.builder \\\n",
    "    .config(conf=sc.getConf()) \\\n",
    "    .getOrCreate()"
   ]
  },
  {
   "cell_type": "code",
   "execution_count": 5,
   "metadata": {},
   "outputs": [],
   "source": [
    "df_green = spark.read.parquet(\"gs://dtc_data_lake_de-zoomcamp_ny-taxi/pq/green/*/*\")"
   ]
  },
  {
   "cell_type": "code",
   "execution_count": 6,
   "metadata": {},
   "outputs": [
    {
     "name": "stdout",
     "output_type": "stream",
     "text": [
      "+--------+--------------------+---------------------+------------------+----------+------------+------------+---------------+-------------+-----------+-----+-------+----------+------------+---------+---------------------+------------+------------+---------+--------------------+\n",
      "|VendorID|lpep_pickup_datetime|lpep_dropoff_datetime|store_and_fwd_flag|RatecodeID|PULocationID|DOLocationID|passenger_count|trip_distance|fare_amount|extra|mta_tax|tip_amount|tolls_amount|ehail_fee|improvement_surcharge|total_amount|payment_type|trip_type|congestion_surcharge|\n",
      "+--------+--------------------+---------------------+------------------+----------+------------+------------+---------------+-------------+-----------+-----+-------+----------+------------+---------+---------------------+------------+------------+---------+--------------------+\n",
      "|       1| 2020-01-03 19:00:01|  2020-01-03 19:05:48|                 N|         1|         244|         116|              1|          1.0|        6.0|  1.0|    0.5|       1.0|         0.0|     NULL|                  0.3|         8.8|           1|        1|                 0.0|\n",
      "|       2| 2020-01-29 19:55:01|  2020-01-29 19:59:12|                 N|         1|         166|          24|              1|         0.82|        5.0|  1.0|    0.5|      1.36|         0.0|     NULL|                  0.3|        8.16|           1|        1|                 0.0|\n",
      "|       1| 2020-01-02 10:20:42|  2020-01-02 10:21:07|                 N|         1|         145|         145|              1|          0.0|        2.5|  0.0|    0.5|       0.0|         0.0|     NULL|                  0.3|         3.3|           2|        1|                 0.0|\n",
      "|    NULL| 2020-01-23 10:24:00|  2020-01-23 10:33:00|              NULL|      NULL|         101|         203|           NULL|         4.88|      28.74| 2.75|    0.0|       0.0|         0.0|     NULL|                  0.3|       31.79|        NULL|     NULL|                NULL|\n",
      "|       2| 2020-01-12 17:30:50|  2020-01-12 17:34:31|                 N|         1|          74|          74|              1|         0.34|        4.5|  0.0|    0.5|       0.0|         0.0|     NULL|                  0.3|         5.3|           2|        1|                 0.0|\n",
      "|       2| 2020-01-27 19:33:09|  2020-01-27 19:40:47|                 N|         1|         134|         135|              5|         1.59|        7.5|  1.0|    0.5|      2.79|         0.0|     NULL|                  0.3|       12.09|           1|        1|                 0.0|\n",
      "|       2| 2020-01-24 21:25:12|  2020-01-24 21:27:41|                 N|         1|          42|          42|              1|         0.74|        4.5|  0.5|    0.5|      1.45|         0.0|     NULL|                  0.3|        7.25|           1|        1|                 0.0|\n",
      "|       2| 2020-01-04 17:06:40|  2020-01-04 17:23:26|                 N|         1|          82|         223|              2|         4.34|       15.5|  0.0|    0.5|      3.26|         0.0|     NULL|                  0.3|       19.56|           1|        1|                 0.0|\n",
      "|    NULL| 2020-01-07 05:46:00|  2020-01-07 06:09:00|              NULL|      NULL|         222|          80|           NULL|         5.74|      26.33| 2.75|    0.5|       0.0|         0.0|     NULL|                  0.3|       29.88|        NULL|     NULL|                NULL|\n",
      "|    NULL| 2020-01-08 17:18:00|  2020-01-08 17:51:00|              NULL|      NULL|         226|         167|           NULL|          6.5|       21.5|  0.0|    0.0|       0.0|        6.12|     NULL|                  0.3|       27.92|        NULL|     NULL|                NULL|\n",
      "|       2| 2020-01-03 15:02:31|  2020-01-03 15:10:40|                 N|         1|          41|          42|              1|         0.98|        6.5|  0.0|    0.5|       0.0|         0.0|     NULL|                  0.3|         7.3|           2|        1|                 0.0|\n",
      "|       2| 2020-01-07 06:44:09|  2020-01-07 07:00:49|                 N|         1|          42|         151|              1|         2.65|       11.5|  0.0|    0.5|       0.0|         0.0|     NULL|                  0.3|        12.3|           2|        1|                 0.0|\n",
      "|    NULL| 2020-01-03 13:30:00|  2020-01-03 13:49:00|              NULL|      NULL|         181|          17|           NULL|         2.68|      13.02|  0.0|    0.0|       0.0|         0.0|     NULL|                  0.3|       13.32|        NULL|     NULL|                NULL|\n",
      "|       1| 2020-01-14 14:23:30|  2020-01-14 14:24:26|                 N|         1|         181|         181|              1|          0.0|        2.5|  0.0|    0.5|       0.0|         0.0|     NULL|                  0.3|         3.3|           4|        1|                 0.0|\n",
      "|    NULL| 2020-01-19 22:11:00|  2020-01-19 23:00:00|              NULL|      NULL|         142|          76|           NULL|        10.55|      44.64| 2.75|    0.0|       0.0|         0.0|     NULL|                  0.3|       47.69|        NULL|     NULL|                NULL|\n",
      "|    NULL| 2020-01-03 09:30:00|  2020-01-03 09:55:00|              NULL|      NULL|         177|          25|           NULL|         5.25|      25.95| 2.75|    0.0|       0.0|         0.0|     NULL|                  0.3|        29.0|        NULL|     NULL|                NULL|\n",
      "|       2| 2020-01-08 10:41:32|  2020-01-08 11:02:04|                 N|         1|          95|         205|              2|         6.35|       21.0|  0.0|    0.5|       0.0|         0.0|     NULL|                  0.3|        21.8|           2|        1|                 0.0|\n",
      "|       2| 2020-01-27 23:39:43|  2020-01-27 23:54:21|                 N|         1|         166|         236|              1|          3.5|       13.5|  0.5|    0.5|       0.0|         0.0|     NULL|                  0.3|       17.55|           2|        1|                2.75|\n",
      "|       2| 2020-01-29 20:00:42|  2020-01-29 20:08:36|                 N|         1|          65|          87|              1|         2.04|        8.5|  0.5|    0.5|      2.51|         0.0|     NULL|                  0.3|       15.06|           1|        1|                2.75|\n",
      "|       1| 2020-01-25 22:35:32|  2020-01-25 22:50:11|                 N|         1|         255|         148|              1|          2.8|       12.5| 3.25|    0.5|       3.3|         0.0|     NULL|                  0.3|       19.85|           1|        1|                2.75|\n",
      "+--------+--------------------+---------------------+------------------+----------+------------+------------+---------------+-------------+-----------+-----+-------+----------+------------+---------+---------------------+------------+------------+---------+--------------------+\n",
      "only showing top 20 rows\n",
      "\n"
     ]
    }
   ],
   "source": [
    "df_green.show()"
   ]
  },
  {
   "cell_type": "code",
   "execution_count": 7,
   "metadata": {},
   "outputs": [
    {
     "data": {
      "text/plain": [
       "2304517"
      ]
     },
     "execution_count": 7,
     "metadata": {},
     "output_type": "execute_result"
    }
   ],
   "source": [
    "df_green.count()"
   ]
  }
 ],
 "metadata": {
  "kernelspec": {
   "display_name": "Python 3",
   "language": "python",
   "name": "python3"
  },
  "language_info": {
   "codemirror_mode": {
    "name": "ipython",
    "version": 3
   },
   "file_extension": ".py",
   "mimetype": "text/x-python",
   "name": "python",
   "nbconvert_exporter": "python",
   "pygments_lexer": "ipython3",
   "version": "3.9.13"
  }
 },
 "nbformat": 4,
 "nbformat_minor": 2
}
